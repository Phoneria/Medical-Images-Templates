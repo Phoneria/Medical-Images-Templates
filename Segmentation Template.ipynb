{
 "cells": [
  {
   "cell_type": "markdown",
   "metadata": {},
   "source": [
    "# Import Libraries"
   ]
  },
  {
   "cell_type": "code",
   "execution_count": 9,
   "metadata": {},
   "outputs": [],
   "source": [
    "import os\n",
    "import requests\n",
    "import zipfile\n",
    "import numpy as np\n",
    "import io\n",
    "from sklearn.model_selection import train_test_split\n",
    "from tensorflow import keras\n",
    "from tensorflow.keras import layers\n",
    "import matplotlib.pyplot as plt"
   ]
  },
  {
   "cell_type": "code",
   "execution_count": null,
   "metadata": {},
   "outputs": [],
   "source": [
    "CKAN_DATASET_ID = \"b987cf48-1b6c-44c7-981a-d25da07f1cd3\"\n",
    "DATASET_DIRECTORY = os.getcwd() + f\"\\\\{CKAN_DATASET_ID}\\\\Retina Blood Vessel Segmentation\""
   ]
  },
  {
   "cell_type": "markdown",
   "metadata": {},
   "source": [
    "# Get Dataset From CKAN With URL"
   ]
  },
  {
   "cell_type": "code",
   "execution_count": null,
   "metadata": {},
   "outputs": [],
   "source": [
    "# Extracting zip file\n",
    "def extract_zip(ckan_dataset_id: str):\n",
    "    with zipfile.ZipFile(f'{ckan_dataset_id}.zip', 'r') as zip_ref:\n",
    "        zip_ref.extractall(f'{ckan_dataset_id}')\n",
    "\n",
    "#  {{CKAN_API_URL}} = http://192.168.1.15:30020 \n",
    "#  b987cf48-1b6c-44c7-981a-d25da07f1cd3\n",
    "# Loading dataset\n",
    "def load_data(ckan_dataset_id: str):\n",
    "    url = \"{{CKAN_API_URL}}\" + f\"/api/3/action/package_show?id={ckan_dataset_id}\"\n",
    "    response = requests.get(url, verify=False)\n",
    "    fetch_data = response.json()\n",
    "    resources = fetch_data[\"result\"][\"resources\"]\n",
    "    zip_resource = None\n",
    "    for resource in resources:\n",
    "        if resource['format'].lower() == 'zip':\n",
    "            zip_resource = resource\n",
    "            break\n",
    "    if zip_resource is None:\n",
    "        raise ValueError(\"No zip file found in the dataset\")\n",
    "\n",
    "    zip_url = zip_resource['url']\n",
    "    zip_response = requests.get(zip_url)\n",
    "    with open(f'{ckan_dataset_id}.zip', 'wb') as f:\n",
    "        f.write(zip_response.content)\n",
    "\n",
    "    extract_zip(ckan_dataset_id)\n",
    "    os.remove(f'{ckan_dataset_id}.zip')"
   ]
  },
  {
   "cell_type": "code",
   "execution_count": null,
   "metadata": {},
   "outputs": [],
   "source": [
    "load_data(CKAN_DATASET_ID)"
   ]
  },
  {
   "cell_type": "markdown",
   "metadata": {},
   "source": [
    "# Read Data"
   ]
  },
  {
   "cell_type": "code",
   "execution_count": null,
   "metadata": {},
   "outputs": [],
   "source": [
    "def read_data(image_dir, mask_dir):\n",
    "    images = []\n",
    "    masks = []\n",
    "    for filename in sorted(os.listdir(image_dir)):\n",
    "        if filename.endswith('.png'):\n",
    "            # Load image\n",
    "            image = plt.imread(os.path.join(image_dir, filename))\n",
    "            images.append(image)\n",
    "            # Load mask\n",
    "            mask = plt.imread(os.path.join(mask_dir, filename))\n",
    "            masks.append(mask)\n",
    "    return np.array(images), np.array(masks)\n",
    "\n",
    "# Define directories for images and masks\n",
    "image_dir = DATASET_DIRECTORY + \"\\\\image\"\n",
    "mask_dir = DATASET_DIRECTORY + \"\\\\mask\"\n",
    "\n",
    "# Load data\n",
    "images, masks = read_data(image_dir, mask_dir)"
   ]
  },
  {
   "cell_type": "markdown",
   "metadata": {},
   "source": [
    "# Split Dataset"
   ]
  },
  {
   "cell_type": "code",
   "execution_count": 13,
   "metadata": {},
   "outputs": [],
   "source": [
    "# Split data into train and test sets\n",
    "train_images, test_images, train_masks, test_masks = train_test_split(images, masks, test_size=0.2, random_state=42)"
   ]
  },
  {
   "cell_type": "markdown",
   "metadata": {},
   "source": [
    "# Train Model\n"
   ]
  },
  {
   "cell_type": "code",
   "execution_count": 14,
   "metadata": {},
   "outputs": [],
   "source": [
    "model = keras.Sequential([\n",
    "    layers.Input(shape=train_images[0].shape),\n",
    "    layers.Conv2D(32, 3, activation='relu', padding='same'),\n",
    "    layers.MaxPooling2D(),\n",
    "    layers.Conv2D(64, 3, activation='relu', padding='same'),\n",
    "    layers.MaxPooling2D(),\n",
    "    layers.Conv2D(128, 3, activation='relu', padding='same'),\n",
    "    layers.UpSampling2D(),\n",
    "    layers.Conv2D(64, 3, activation='relu', padding='same'),\n",
    "    layers.UpSampling2D(),\n",
    "    layers.Conv2D(1, 3, activation='sigmoid', padding='same')\n",
    "])"
   ]
  },
  {
   "cell_type": "code",
   "execution_count": 15,
   "metadata": {},
   "outputs": [],
   "source": [
    "model.compile(optimizer='adam', loss='binary_crossentropy', metrics=['accuracy'])"
   ]
  },
  {
   "cell_type": "code",
   "execution_count": null,
   "metadata": {},
   "outputs": [],
   "source": [
    "model.fit(train_images, train_masks, epochs=10, batch_size=32, validation_split=0.1)"
   ]
  },
  {
   "cell_type": "markdown",
   "metadata": {},
   "source": [
    "# Evaluate Model Performance"
   ]
  },
  {
   "cell_type": "code",
   "execution_count": null,
   "metadata": {},
   "outputs": [],
   "source": [
    "test_loss, test_accuracy = model.evaluate(test_images, test_masks)\n",
    "print(f'Test Loss: {test_loss}, Test Accuracy: {test_accuracy}')"
   ]
  },
  {
   "cell_type": "code",
   "execution_count": null,
   "metadata": {},
   "outputs": [],
   "source": [
    "import cloudpickle\n",
    "predict_pkl = cloudpickle.dumps(model)\n",
    "with open(\"predict.pkl\", \"wb\") as f:\n",
    "    f.write(model.predict(test_masks))"
   ]
  }
 ],
 "metadata": {
  "kernelspec": {
   "display_name": "base",
   "language": "python",
   "name": "python3"
  },
  "language_info": {
   "codemirror_mode": {
    "name": "ipython",
    "version": 3
   },
   "file_extension": ".py",
   "mimetype": "text/x-python",
   "name": "python",
   "nbconvert_exporter": "python",
   "pygments_lexer": "ipython3",
   "version": "3.11.8"
  }
 },
 "nbformat": 4,
 "nbformat_minor": 2
}
